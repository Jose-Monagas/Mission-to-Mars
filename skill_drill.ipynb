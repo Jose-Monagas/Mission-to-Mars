{
 "cells": [
  {
   "cell_type": "code",
   "execution_count": 11,
   "metadata": {},
   "outputs": [],
   "source": [
    "from splinter import Browser\n",
    "from bs4 import BeautifulSoup as soup\n",
    "from webdriver_manager.chrome import ChromeDriverManager"
   ]
  },
  {
   "cell_type": "code",
   "execution_count": 13,
   "metadata": {},
   "outputs": [
    {
     "name": "stderr",
     "output_type": "stream",
     "text": [
      "[WDM] - Current google-chrome version is 87.0.4280\n",
      "[WDM] - Get LATEST driver version for 87.0.4280\n",
      "[WDM] - Driver [/Users/josemonagas/.wdm/drivers/chromedriver/mac64/87.0.4280.88/chromedriver] found in cache\n"
     ]
    },
    {
     "name": "stdout",
     "output_type": "stream",
     "text": [
      " \n"
     ]
    }
   ],
   "source": [
    "# Setup splinter\n",
    "executable_path = {'executable_path': ChromeDriverManager().install()}\n",
    "browser = Browser('chrome', **executable_path, headless=False)"
   ]
  },
  {
   "cell_type": "code",
   "execution_count": 14,
   "metadata": {},
   "outputs": [],
   "source": [
    "# Visit the Quotes to Scrape site\n",
    "url = 'http://books.toscrape.com/'\n",
    "browser.visit(url)"
   ]
  },
  {
   "cell_type": "code",
   "execution_count": 29,
   "metadata": {},
   "outputs": [
    {
     "name": "stdout",
     "output_type": "stream",
     "text": [
      "index.html\n",
      "../books/travel_2/index.html\n",
      "../books/mystery_3/index.html\n",
      "../books/historical-fiction_4/index.html\n",
      "../books/sequential-art_5/index.html\n",
      "../books/classics_6/index.html\n",
      "../books/philosophy_7/index.html\n",
      "../books/romance_8/index.html\n",
      "../books/womens-fiction_9/index.html\n",
      "../books/fiction_10/index.html\n",
      "../books/childrens_11/index.html\n",
      "../books/religion_12/index.html\n",
      "../books/nonfiction_13/index.html\n",
      "../books/music_14/index.html\n",
      "../books/default_15/index.html\n",
      "../books/science-fiction_16/index.html\n",
      "../books/sports-and-games_17/index.html\n",
      "../books/add-a-comment_18/index.html\n",
      "../books/fantasy_19/index.html\n",
      "../books/new-adult_20/index.html\n",
      "../books/young-adult_21/index.html\n",
      "../books/science_22/index.html\n",
      "../books/poetry_23/index.html\n",
      "../books/paranormal_24/index.html\n",
      "../books/art_25/index.html\n",
      "../books/psychology_26/index.html\n",
      "../books/autobiography_27/index.html\n",
      "../books/parenting_28/index.html\n",
      "../books/adult-fiction_29/index.html\n",
      "../books/humor_30/index.html\n",
      "../books/horror_31/index.html\n",
      "../books/history_32/index.html\n",
      "../books/food-and-drink_33/index.html\n",
      "../books/christian-fiction_34/index.html\n",
      "../books/business_35/index.html\n",
      "../books/biography_36/index.html\n",
      "../books/thriller_37/index.html\n",
      "../books/contemporary_38/index.html\n",
      "../books/spirituality_39/index.html\n",
      "../books/academic_40/index.html\n",
      "../books/self-help_41/index.html\n",
      "../books/historical_42/index.html\n",
      "../books/christian_43/index.html\n",
      "../books/suspense_44/index.html\n",
      "../books/short-stories_45/index.html\n",
      "../books/novels_46/index.html\n",
      "../books/health_47/index.html\n",
      "../books/politics_48/index.html\n",
      "../books/cultural_49/index.html\n",
      "../books/erotica_50/index.html\n",
      "../books/crime_51/index.html\n"
     ]
    }
   ],
   "source": [
    "# Scrape the book URL list on the first page.\n",
    "html = browser.html\n",
    "html_soup = soup(html, 'html.parser')\n",
    "side_categories = html_soup.find('div', class_='side_categories')\n",
    "list_items = side_categories.find_all('li')\n",
    "\n",
    "\n",
    "for item in list_items:\n",
    "    print(item.find('a')['href'])"
   ]
  },
  {
   "cell_type": "code",
   "execution_count": 30,
   "metadata": {},
   "outputs": [],
   "source": [
    "browser.quit()"
   ]
  },
  {
   "cell_type": "code",
   "execution_count": null,
   "metadata": {},
   "outputs": [],
   "source": []
  }
 ],
 "metadata": {
  "kernelspec": {
   "display_name": "PythonData",
   "language": "python",
   "name": "pythondata"
  },
  "language_info": {
   "codemirror_mode": {
    "name": "ipython",
    "version": 3
   },
   "file_extension": ".py",
   "mimetype": "text/x-python",
   "name": "python",
   "nbconvert_exporter": "python",
   "pygments_lexer": "ipython3",
   "version": "3.7.7"
  }
 },
 "nbformat": 4,
 "nbformat_minor": 4
}
